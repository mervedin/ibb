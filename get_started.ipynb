{
  "nbformat": 4,
  "nbformat_minor": 0,
  "metadata": {
    "colab": {
      "name": "get_started.ipynb",
      "provenance": [],
      "collapsed_sections": [],
      "authorship_tag": "ABX9TyOea2p1sNjPhefaEuhSdPst",
      "include_colab_link": true
    },
    "kernelspec": {
      "name": "python3",
      "display_name": "Python 3"
    }
  },
  "cells": [
    {
      "cell_type": "markdown",
      "metadata": {
        "id": "view-in-github",
        "colab_type": "text"
      },
      "source": [
        "<a href=\"https://colab.research.google.com/github/mervedin/ibb_data/blob/master/get_started.ipynb\" target=\"_parent\"><img src=\"https://colab.research.google.com/assets/colab-badge.svg\" alt=\"Open In Colab\"/></a>"
      ]
    },
    {
      "cell_type": "markdown",
      "metadata": {
        "id": "w2kFgRsPtvd_"
      },
      "source": [
        "## Time Series Forecasting"
      ]
    },
    {
      "cell_type": "markdown",
      "metadata": {
        "id": "u0Ti6Asrt0-d"
      },
      "source": [
        "This notebook written to get started quickly with the dam dataset. The dam dataset is a combination of two different datasets.\n",
        "\n",
        "Orginal dam dataset: https://data.ibb.gov.tr/dataset/istanbul-dam-occupany-rates-data\n",
        "\n",
        "The weather dataset: https://www.kaggle.com/vonline9/weather-istanbul-data-20092019\n",
        "\n"
      ]
    },
    {
      "cell_type": "code",
      "metadata": {
        "id": "w49P4ALxsLaj"
      },
      "source": [
        "import numpy as np\n",
        "import pandas as pd\n",
        "import matplotlib.pyplot as plt\n",
        "import seaborn as sns\n",
        "from sklearn.metrics import mean_absolute_error\n",
        "import warnings\n",
        "\n",
        "warnings.filterwarnings(\"ignore\")"
      ],
      "execution_count": 1,
      "outputs": []
    },
    {
      "cell_type": "code",
      "metadata": {
        "id": "Z0t2qLMLsVma"
      },
      "source": [
        "#read the dataset from github\n",
        "url = \"https://raw.githubusercontent.com/mervedin/ibb_data/master/data-csv-files/dam_istanbul_weather.csv\"\n",
        "data = pd.read_csv(url)"
      ],
      "execution_count": 2,
      "outputs": []
    },
    {
      "cell_type": "code",
      "metadata": {
        "colab": {
          "base_uri": "https://localhost:8080/",
          "height": 206
        },
        "id": "ZrgNNexFsaT2",
        "outputId": "134fd0c9-2c23-4a48-b6e9-a4dac179f2db"
      },
      "source": [
        "data.head()"
      ],
      "execution_count": 3,
      "outputs": [
        {
          "output_type": "execute_result",
          "data": {
            "text/html": [
              "<div>\n",
              "<style scoped>\n",
              "    .dataframe tbody tr th:only-of-type {\n",
              "        vertical-align: middle;\n",
              "    }\n",
              "\n",
              "    .dataframe tbody tr th {\n",
              "        vertical-align: top;\n",
              "    }\n",
              "\n",
              "    .dataframe thead th {\n",
              "        text-align: right;\n",
              "    }\n",
              "</style>\n",
              "<table border=\"1\" class=\"dataframe\">\n",
              "  <thead>\n",
              "    <tr style=\"text-align: right;\">\n",
              "      <th></th>\n",
              "      <th>DATE</th>\n",
              "      <th>GENERAL_DAM_OCCUPANCY_RATE</th>\n",
              "      <th>GENERAL_DAM_RESERVED_WATER</th>\n",
              "      <th>DateTime</th>\n",
              "      <th>Condition</th>\n",
              "      <th>Rain</th>\n",
              "      <th>MaxTemp</th>\n",
              "      <th>MinTemp</th>\n",
              "      <th>SunRise</th>\n",
              "      <th>SunSet</th>\n",
              "      <th>MoonRise</th>\n",
              "      <th>MoonSet</th>\n",
              "      <th>AvgWind</th>\n",
              "      <th>AvgHumidity</th>\n",
              "      <th>AvgPressure</th>\n",
              "    </tr>\n",
              "  </thead>\n",
              "  <tbody>\n",
              "    <tr>\n",
              "      <th>0</th>\n",
              "      <td>2009-01-01</td>\n",
              "      <td>34.51</td>\n",
              "      <td>300</td>\n",
              "      <td>01.01.2009</td>\n",
              "      <td>Partly cloudy</td>\n",
              "      <td>0.23</td>\n",
              "      <td>5</td>\n",
              "      <td>2</td>\n",
              "      <td>08:29:00</td>\n",
              "      <td>17:47:00</td>\n",
              "      <td>11:9:00</td>\n",
              "      <td>22:39:00</td>\n",
              "      <td>10</td>\n",
              "      <td>90</td>\n",
              "      <td>1027</td>\n",
              "    </tr>\n",
              "    <tr>\n",
              "      <th>1</th>\n",
              "      <td>2009-01-02</td>\n",
              "      <td>34.87</td>\n",
              "      <td>303</td>\n",
              "      <td>01.02.2009</td>\n",
              "      <td>Cloudy</td>\n",
              "      <td>0.02</td>\n",
              "      <td>7</td>\n",
              "      <td>3</td>\n",
              "      <td>08:15:00</td>\n",
              "      <td>18:21:00</td>\n",
              "      <td>10:44:00</td>\n",
              "      <td>NaN</td>\n",
              "      <td>15</td>\n",
              "      <td>86</td>\n",
              "      <td>1019</td>\n",
              "    </tr>\n",
              "    <tr>\n",
              "      <th>2</th>\n",
              "      <td>2009-01-03</td>\n",
              "      <td>35.28</td>\n",
              "      <td>306</td>\n",
              "      <td>01.03.2009</td>\n",
              "      <td>Partly cloudy</td>\n",
              "      <td>0.26</td>\n",
              "      <td>8</td>\n",
              "      <td>1</td>\n",
              "      <td>07:39:00</td>\n",
              "      <td>18:55:00</td>\n",
              "      <td>9:17:00</td>\n",
              "      <td>12:0:00</td>\n",
              "      <td>11</td>\n",
              "      <td>84</td>\n",
              "      <td>1020</td>\n",
              "    </tr>\n",
              "    <tr>\n",
              "      <th>3</th>\n",
              "      <td>2009-01-04</td>\n",
              "      <td>35.88</td>\n",
              "      <td>312</td>\n",
              "      <td>01.04.2009</td>\n",
              "      <td>Sunny</td>\n",
              "      <td>0.00</td>\n",
              "      <td>17</td>\n",
              "      <td>9</td>\n",
              "      <td>06:48:00</td>\n",
              "      <td>19:29:00</td>\n",
              "      <td>10:17:00</td>\n",
              "      <td>1:22:00</td>\n",
              "      <td>17</td>\n",
              "      <td>69</td>\n",
              "      <td>1017</td>\n",
              "    </tr>\n",
              "    <tr>\n",
              "      <th>4</th>\n",
              "      <td>2009-01-05</td>\n",
              "      <td>37.32</td>\n",
              "      <td>324</td>\n",
              "      <td>01.05.2009</td>\n",
              "      <td>Partly cloudy</td>\n",
              "      <td>2.23</td>\n",
              "      <td>20</td>\n",
              "      <td>10</td>\n",
              "      <td>06:02:00</td>\n",
              "      <td>20:1:00</td>\n",
              "      <td>11:45:00</td>\n",
              "      <td>1:49:00</td>\n",
              "      <td>10</td>\n",
              "      <td>75</td>\n",
              "      <td>1007</td>\n",
              "    </tr>\n",
              "  </tbody>\n",
              "</table>\n",
              "</div>"
            ],
            "text/plain": [
              "         DATE  GENERAL_DAM_OCCUPANCY_RATE  ...  AvgHumidity AvgPressure\n",
              "0  2009-01-01                       34.51  ...           90        1027\n",
              "1  2009-01-02                       34.87  ...           86        1019\n",
              "2  2009-01-03                       35.28  ...           84        1020\n",
              "3  2009-01-04                       35.88  ...           69        1017\n",
              "4  2009-01-05                       37.32  ...           75        1007\n",
              "\n",
              "[5 rows x 15 columns]"
            ]
          },
          "metadata": {
            "tags": []
          },
          "execution_count": 3
        }
      ]
    },
    {
      "cell_type": "code",
      "metadata": {
        "id": "Yd41mgHOtUMy"
      },
      "source": [
        "#drop unnecessary columns\n",
        "data = data.drop([\"GENERAL_DAM_RESERVED_WATER\", \"DateTime\", \"SunRise\", \"SunSet\", \"MoonSet\", \"MoonRise\", \"AvgWind\", \"AvgPressure\"], axis=1)\n",
        "\n",
        "#redefine columns' name\n",
        "data.columns = [\"date\", \"dam_occupancy\", \"weather\", \"rain\", \"max_temp\", \"min_temp\", \"avg_hum\"]"
      ],
      "execution_count": 4,
      "outputs": []
    },
    {
      "cell_type": "code",
      "metadata": {
        "colab": {
          "base_uri": "https://localhost:8080/",
          "height": 206
        },
        "id": "lutUCcCrvJcw",
        "outputId": "2f7bd4eb-cd77-49a2-cc34-a42f9c46cf34"
      },
      "source": [
        "data.head()"
      ],
      "execution_count": 5,
      "outputs": [
        {
          "output_type": "execute_result",
          "data": {
            "text/html": [
              "<div>\n",
              "<style scoped>\n",
              "    .dataframe tbody tr th:only-of-type {\n",
              "        vertical-align: middle;\n",
              "    }\n",
              "\n",
              "    .dataframe tbody tr th {\n",
              "        vertical-align: top;\n",
              "    }\n",
              "\n",
              "    .dataframe thead th {\n",
              "        text-align: right;\n",
              "    }\n",
              "</style>\n",
              "<table border=\"1\" class=\"dataframe\">\n",
              "  <thead>\n",
              "    <tr style=\"text-align: right;\">\n",
              "      <th></th>\n",
              "      <th>date</th>\n",
              "      <th>dam_occupancy</th>\n",
              "      <th>weather</th>\n",
              "      <th>rain</th>\n",
              "      <th>max_temp</th>\n",
              "      <th>min_temp</th>\n",
              "      <th>avg_hum</th>\n",
              "    </tr>\n",
              "  </thead>\n",
              "  <tbody>\n",
              "    <tr>\n",
              "      <th>0</th>\n",
              "      <td>2009-01-01</td>\n",
              "      <td>34.51</td>\n",
              "      <td>Partly cloudy</td>\n",
              "      <td>0.23</td>\n",
              "      <td>5</td>\n",
              "      <td>2</td>\n",
              "      <td>90</td>\n",
              "    </tr>\n",
              "    <tr>\n",
              "      <th>1</th>\n",
              "      <td>2009-01-02</td>\n",
              "      <td>34.87</td>\n",
              "      <td>Cloudy</td>\n",
              "      <td>0.02</td>\n",
              "      <td>7</td>\n",
              "      <td>3</td>\n",
              "      <td>86</td>\n",
              "    </tr>\n",
              "    <tr>\n",
              "      <th>2</th>\n",
              "      <td>2009-01-03</td>\n",
              "      <td>35.28</td>\n",
              "      <td>Partly cloudy</td>\n",
              "      <td>0.26</td>\n",
              "      <td>8</td>\n",
              "      <td>1</td>\n",
              "      <td>84</td>\n",
              "    </tr>\n",
              "    <tr>\n",
              "      <th>3</th>\n",
              "      <td>2009-01-04</td>\n",
              "      <td>35.88</td>\n",
              "      <td>Sunny</td>\n",
              "      <td>0.00</td>\n",
              "      <td>17</td>\n",
              "      <td>9</td>\n",
              "      <td>69</td>\n",
              "    </tr>\n",
              "    <tr>\n",
              "      <th>4</th>\n",
              "      <td>2009-01-05</td>\n",
              "      <td>37.32</td>\n",
              "      <td>Partly cloudy</td>\n",
              "      <td>2.23</td>\n",
              "      <td>20</td>\n",
              "      <td>10</td>\n",
              "      <td>75</td>\n",
              "    </tr>\n",
              "  </tbody>\n",
              "</table>\n",
              "</div>"
            ],
            "text/plain": [
              "         date  dam_occupancy        weather  rain  max_temp  min_temp  avg_hum\n",
              "0  2009-01-01          34.51  Partly cloudy  0.23         5         2       90\n",
              "1  2009-01-02          34.87         Cloudy  0.02         7         3       86\n",
              "2  2009-01-03          35.28  Partly cloudy  0.26         8         1       84\n",
              "3  2009-01-04          35.88          Sunny  0.00        17         9       69\n",
              "4  2009-01-05          37.32  Partly cloudy  2.23        20        10       75"
            ]
          },
          "metadata": {
            "tags": []
          },
          "execution_count": 5
        }
      ]
    },
    {
      "cell_type": "code",
      "metadata": {
        "colab": {
          "base_uri": "https://localhost:8080/"
        },
        "id": "Kqmz6rkUv66S",
        "outputId": "f067bf4d-4be7-48a8-b232-0c2e76a02fe4"
      },
      "source": [
        "#check whether there is any null value\n",
        "data.isna().sum()"
      ],
      "execution_count": 6,
      "outputs": [
        {
          "output_type": "execute_result",
          "data": {
            "text/plain": [
              "date             0\n",
              "dam_occupancy    0\n",
              "weather          0\n",
              "rain             0\n",
              "max_temp         0\n",
              "min_temp         0\n",
              "avg_hum          0\n",
              "dtype: int64"
            ]
          },
          "metadata": {
            "tags": []
          },
          "execution_count": 6
        }
      ]
    },
    {
      "cell_type": "code",
      "metadata": {
        "colab": {
          "base_uri": "https://localhost:8080/"
        },
        "id": "HPTYRnLQwD23",
        "outputId": "0eb55e91-6d19-44df-fe9a-32e2a6843d52"
      },
      "source": [
        "data.info()"
      ],
      "execution_count": 7,
      "outputs": [
        {
          "output_type": "stream",
          "text": [
            "<class 'pandas.core.frame.DataFrame'>\n",
            "RangeIndex: 3896 entries, 0 to 3895\n",
            "Data columns (total 7 columns):\n",
            " #   Column         Non-Null Count  Dtype  \n",
            "---  ------         --------------  -----  \n",
            " 0   date           3896 non-null   object \n",
            " 1   dam_occupancy  3896 non-null   float64\n",
            " 2   weather        3896 non-null   object \n",
            " 3   rain           3896 non-null   float64\n",
            " 4   max_temp       3896 non-null   int64  \n",
            " 5   min_temp       3896 non-null   int64  \n",
            " 6   avg_hum        3896 non-null   int64  \n",
            "dtypes: float64(2), int64(3), object(2)\n",
            "memory usage: 213.2+ KB\n"
          ],
          "name": "stdout"
        }
      ]
    },
    {
      "cell_type": "markdown",
      "metadata": {
        "id": "Ybu-d_YxwVRZ"
      },
      "source": [
        "There are two columns that they have object data type, date and weather. We should convert date column to datatime data type and for weather column we should choose a way to present that knowledge as a numeric.  We can use label encoding or one-hot encoding. In our situation weather column is ordinal and using label encoding would be more appropriate."
      ]
    },
    {
      "cell_type": "code",
      "metadata": {
        "colab": {
          "base_uri": "https://localhost:8080/",
          "height": 238
        },
        "id": "vAMq0gT9yLgX",
        "outputId": "23bf000c-6f2d-4e84-afb6-61273028ed05"
      },
      "source": [
        "#convert date column's data type to datetime\n",
        "data[\"date\"] = pd.to_datetime(data[\"date\"])\n",
        "\n",
        "#use date column as an index\n",
        "data.set_index(\"date\", inplace=True)\n",
        "data.sort_index(inplace=True)\n",
        "data.head()"
      ],
      "execution_count": 8,
      "outputs": [
        {
          "output_type": "execute_result",
          "data": {
            "text/html": [
              "<div>\n",
              "<style scoped>\n",
              "    .dataframe tbody tr th:only-of-type {\n",
              "        vertical-align: middle;\n",
              "    }\n",
              "\n",
              "    .dataframe tbody tr th {\n",
              "        vertical-align: top;\n",
              "    }\n",
              "\n",
              "    .dataframe thead th {\n",
              "        text-align: right;\n",
              "    }\n",
              "</style>\n",
              "<table border=\"1\" class=\"dataframe\">\n",
              "  <thead>\n",
              "    <tr style=\"text-align: right;\">\n",
              "      <th></th>\n",
              "      <th>dam_occupancy</th>\n",
              "      <th>weather</th>\n",
              "      <th>rain</th>\n",
              "      <th>max_temp</th>\n",
              "      <th>min_temp</th>\n",
              "      <th>avg_hum</th>\n",
              "    </tr>\n",
              "    <tr>\n",
              "      <th>date</th>\n",
              "      <th></th>\n",
              "      <th></th>\n",
              "      <th></th>\n",
              "      <th></th>\n",
              "      <th></th>\n",
              "      <th></th>\n",
              "    </tr>\n",
              "  </thead>\n",
              "  <tbody>\n",
              "    <tr>\n",
              "      <th>2009-01-01</th>\n",
              "      <td>34.51</td>\n",
              "      <td>Partly cloudy</td>\n",
              "      <td>0.23</td>\n",
              "      <td>5</td>\n",
              "      <td>2</td>\n",
              "      <td>90</td>\n",
              "    </tr>\n",
              "    <tr>\n",
              "      <th>2009-01-02</th>\n",
              "      <td>34.87</td>\n",
              "      <td>Cloudy</td>\n",
              "      <td>0.02</td>\n",
              "      <td>7</td>\n",
              "      <td>3</td>\n",
              "      <td>86</td>\n",
              "    </tr>\n",
              "    <tr>\n",
              "      <th>2009-01-03</th>\n",
              "      <td>35.28</td>\n",
              "      <td>Partly cloudy</td>\n",
              "      <td>0.26</td>\n",
              "      <td>8</td>\n",
              "      <td>1</td>\n",
              "      <td>84</td>\n",
              "    </tr>\n",
              "    <tr>\n",
              "      <th>2009-01-04</th>\n",
              "      <td>35.88</td>\n",
              "      <td>Sunny</td>\n",
              "      <td>0.00</td>\n",
              "      <td>17</td>\n",
              "      <td>9</td>\n",
              "      <td>69</td>\n",
              "    </tr>\n",
              "    <tr>\n",
              "      <th>2009-01-05</th>\n",
              "      <td>37.32</td>\n",
              "      <td>Partly cloudy</td>\n",
              "      <td>2.23</td>\n",
              "      <td>20</td>\n",
              "      <td>10</td>\n",
              "      <td>75</td>\n",
              "    </tr>\n",
              "  </tbody>\n",
              "</table>\n",
              "</div>"
            ],
            "text/plain": [
              "            dam_occupancy        weather  rain  max_temp  min_temp  avg_hum\n",
              "date                                                                       \n",
              "2009-01-01          34.51  Partly cloudy  0.23         5         2       90\n",
              "2009-01-02          34.87         Cloudy  0.02         7         3       86\n",
              "2009-01-03          35.28  Partly cloudy  0.26         8         1       84\n",
              "2009-01-04          35.88          Sunny  0.00        17         9       69\n",
              "2009-01-05          37.32  Partly cloudy  2.23        20        10       75"
            ]
          },
          "metadata": {
            "tags": []
          },
          "execution_count": 8
        }
      ]
    },
    {
      "cell_type": "markdown",
      "metadata": {
        "id": "OCeCFYUdy9a6"
      },
      "source": [
        "Before using label encoder we divide the dataset into two part, train and test, so we won't cause any data leakage."
      ]
    },
    {
      "cell_type": "code",
      "metadata": {
        "colab": {
          "base_uri": "https://localhost:8080/"
        },
        "id": "WbuooUBazrT0",
        "outputId": "de5e6cd6-3fc6-47ce-ec7a-13f012c8ef87"
      },
      "source": [
        "split_index = int(data.shape[0]*0.8)\n",
        "train = data.iloc[:split_index, :]\n",
        "test = data.iloc[split_index:, :]\n",
        "\n",
        "print(\"train shape: \", train.shape)\n",
        "print(\"test shape: \", test.shape)"
      ],
      "execution_count": 9,
      "outputs": [
        {
          "output_type": "stream",
          "text": [
            "train shape:  (3116, 6)\n",
            "test shape:  (780, 6)\n"
          ],
          "name": "stdout"
        }
      ]
    },
    {
      "cell_type": "markdown",
      "metadata": {
        "id": "MB1lsTuw3FAq"
      },
      "source": [
        "There is one more problem with weather column. It has lots of different values."
      ]
    },
    {
      "cell_type": "code",
      "metadata": {
        "colab": {
          "base_uri": "https://localhost:8080/"
        },
        "id": "1u4DW2WK3QS5",
        "outputId": "0dbb7059-ce48-4617-8e0c-2ae892a48b01"
      },
      "source": [
        "data.weather.value_counts()"
      ],
      "execution_count": 10,
      "outputs": [
        {
          "output_type": "execute_result",
          "data": {
            "text/plain": [
              "Sunny                                  2242\n",
              "Partly cloudy                           781\n",
              "Overcast                                427\n",
              "Cloudy                                  258\n",
              "Patchy rain possible                     54\n",
              "Thundery outbreaks possible              45\n",
              "Light rain shower                        23\n",
              "Light rain                               11\n",
              "Moderate or heavy rain shower             8\n",
              "Light drizzle                             6\n",
              "Moderate rain                             5\n",
              "Mist                                      5\n",
              "Blizzard                                  4\n",
              "Light sleet                               4\n",
              "Patchy light rain with thunder            3\n",
              "Torrential rain shower                    3\n",
              "Moderate or heavy rain with thunder       3\n",
              "Heavy rain                                3\n",
              "Fog                                       2\n",
              "Patchy light drizzle                      2\n",
              "Moderate or heavy snow showers            2\n",
              "Moderate or heavy sleet                   1\n",
              "Moderate snow                             1\n",
              "Moderate rain at times                    1\n",
              "Light sleet showers                       1\n",
              "Heavy rain at times                       1\n",
              "Name: weather, dtype: int64"
            ]
          },
          "metadata": {
            "tags": []
          },
          "execution_count": 10
        }
      ]
    },
    {
      "cell_type": "markdown",
      "metadata": {
        "id": "c9Z0SbHZ54yk"
      },
      "source": [
        "If a weather condition has less than 11 examples, group them as a new condition \"other\".\n",
        "\n",
        "Note: There could be more accurate ways to do it but that was the fast one. You can work on it."
      ]
    },
    {
      "cell_type": "code",
      "metadata": {
        "id": "fpR7x_DK41ds"
      },
      "source": [
        "weather_cond = data.weather.value_counts()\n",
        "other_weather = list(weather_cond[weather_cond < 11].index)\n",
        "data[\"weather\"] = data[\"weather\"].apply(lambda x: \"other\" if x in other_weather else x)"
      ],
      "execution_count": 11,
      "outputs": []
    },
    {
      "cell_type": "code",
      "metadata": {
        "colab": {
          "base_uri": "https://localhost:8080/"
        },
        "id": "mZbdDqmr6XLE",
        "outputId": "74502117-6e18-4a86-d4b9-1f3643a9f123"
      },
      "source": [
        "data.weather.value_counts()"
      ],
      "execution_count": 12,
      "outputs": [
        {
          "output_type": "execute_result",
          "data": {
            "text/plain": [
              "Sunny                          2242\n",
              "Partly cloudy                   781\n",
              "Overcast                        427\n",
              "Cloudy                          258\n",
              "other                            55\n",
              "Patchy rain possible             54\n",
              "Thundery outbreaks possible      45\n",
              "Light rain shower                23\n",
              "Light rain                       11\n",
              "Name: weather, dtype: int64"
            ]
          },
          "metadata": {
            "tags": []
          },
          "execution_count": 12
        }
      ]
    },
    {
      "cell_type": "markdown",
      "metadata": {
        "id": "hqnhtnlCiZSa"
      },
      "source": [
        "Finally, we can encode our weather column.\n"
      ]
    },
    {
      "cell_type": "code",
      "metadata": {
        "id": "eXBC7wKtwROk"
      },
      "source": [
        "from sklearn.preprocessing import LabelEncoder\n",
        "le = LabelEncoder()\n",
        "train[\"weather\"] = le.fit_transform(train[\"weather\"])\n",
        "test[\"weather\"] = le.transform(test[\"weather\"])"
      ],
      "execution_count": 13,
      "outputs": []
    },
    {
      "cell_type": "markdown",
      "metadata": {
        "id": "z5AORwxq_g2Z"
      },
      "source": [
        "Scaling data will help to  gradient descent converge much faster with scaling than without it.\n",
        "\n",
        "Additional resource: https://towardsdatascience.com/all-about-feature-scaling-bcc0ad75cb35"
      ]
    },
    {
      "cell_type": "code",
      "metadata": {
        "id": "SqMSb-EU2lCq"
      },
      "source": [
        "#scale the data between zero and one\n",
        "from sklearn.preprocessing import MinMaxScaler\n",
        "\n",
        "scaler = MinMaxScaler()\n",
        "train_scaled = pd.DataFrame(scaler.fit_transform(train), columns=data.columns)\n",
        "test_scaled = pd.DataFrame(scaler.transform(test), columns=data.columns)"
      ],
      "execution_count": 14,
      "outputs": []
    },
    {
      "cell_type": "markdown",
      "metadata": {
        "id": "s1Yt8nZKnZ4U"
      },
      "source": [
        "Time series data requires preparation before it can be used to train a supervised learning model, such as a deep learning model.\n",
        "\n",
        "Read for more info: https://machinelearningmastery.com/how-to-use-the-timeseriesgenerator-for-time-series-forecasting-in-keras/"
      ]
    },
    {
      "cell_type": "code",
      "metadata": {
        "id": "eG5bRYjN_Yp2"
      },
      "source": [
        "\"\"\"\n",
        "This is a custom function to convert raw dataset to sequences.\n",
        "\n",
        "inputs:\n",
        "  df(pandas.DataFrame): input dataset\n",
        "  window_size(int): how many historical data do we need for our prediction\n",
        "  predict(int): how many lags after do we want to forecast\n",
        "\n",
        "outputs:\n",
        "  trainX(numpy.array): features\n",
        "  trainY(numpy.array): target\n",
        "\n",
        "  example: if we have a daily dataset and we want to forecast 5 days later \n",
        "  in the future using last 10 days values function values would be like that:\n",
        "  prepare_dataset(df, 5, 10)\n",
        "\n",
        "\"\"\"\n",
        "def prepare_dataset(df, window_size=7, predict=14):\n",
        "    trainX = []\n",
        "    trainY = []\n",
        "    for i in range(window_size, df.shape[0]-predict+1):\n",
        "        trainX.append(df.iloc[i-window_size:i, :])\n",
        "        trainY.append(df.iloc[i+predict-1, 0])\n",
        "    return np.array(trainX), np.array(trainY)"
      ],
      "execution_count": 15,
      "outputs": []
    },
    {
      "cell_type": "markdown",
      "metadata": {
        "id": "2HIpZfbtmGZt"
      },
      "source": [
        "### Example using the custom function"
      ]
    },
    {
      "cell_type": "code",
      "metadata": {
        "colab": {
          "base_uri": "https://localhost:8080/"
        },
        "id": "k36xrMeBKVvg",
        "outputId": "9191ef52-955d-4be0-dd5b-02b803e36aa7"
      },
      "source": [
        "toy_data = pd.DataFrame({\"target\": np.random.randint(0, 30, 10), \"feature\": np.random.randint(40, 70, 10)})\n",
        "print(toy_data)"
      ],
      "execution_count": 16,
      "outputs": [
        {
          "output_type": "stream",
          "text": [
            "   target  feature\n",
            "0      21       59\n",
            "1      14       42\n",
            "2      26       46\n",
            "3       0       59\n",
            "4       3       66\n",
            "5       8       60\n",
            "6       9       46\n",
            "7      12       65\n",
            "8       8       42\n",
            "9       8       43\n"
          ],
          "name": "stdout"
        }
      ]
    },
    {
      "cell_type": "code",
      "metadata": {
        "colab": {
          "base_uri": "https://localhost:8080/"
        },
        "id": "bjlbt5UeKqaw",
        "outputId": "86d88ba3-3907-4925-818c-c43af570a9ba"
      },
      "source": [
        "x, y = prepare_dataset(toy_data, 2, 1)\n",
        "print(x)"
      ],
      "execution_count": 17,
      "outputs": [
        {
          "output_type": "stream",
          "text": [
            "[[[21 59]\n",
            "  [14 42]]\n",
            "\n",
            " [[14 42]\n",
            "  [26 46]]\n",
            "\n",
            " [[26 46]\n",
            "  [ 0 59]]\n",
            "\n",
            " [[ 0 59]\n",
            "  [ 3 66]]\n",
            "\n",
            " [[ 3 66]\n",
            "  [ 8 60]]\n",
            "\n",
            " [[ 8 60]\n",
            "  [ 9 46]]\n",
            "\n",
            " [[ 9 46]\n",
            "  [12 65]]\n",
            "\n",
            " [[12 65]\n",
            "  [ 8 42]]]\n"
          ],
          "name": "stdout"
        }
      ]
    },
    {
      "cell_type": "code",
      "metadata": {
        "colab": {
          "base_uri": "https://localhost:8080/"
        },
        "id": "E01XipJNK2yv",
        "outputId": "b20e4f56-f62b-4cd1-9f32-e3c1c8164565"
      },
      "source": [
        "print(y)"
      ],
      "execution_count": 18,
      "outputs": [
        {
          "output_type": "stream",
          "text": [
            "[26  0  3  8  9 12  8  8]\n"
          ],
          "name": "stdout"
        }
      ]
    },
    {
      "cell_type": "markdown",
      "metadata": {
        "id": "DW7MnA_WTVi4"
      },
      "source": [
        "### Getting sequences with TimeseriesGenerator"
      ]
    },
    {
      "cell_type": "markdown",
      "metadata": {
        "id": "D9Nppk-jmVLu"
      },
      "source": [
        "You can use TimeseriesGenerator to get same results. This is result of toy dataset using same parameters."
      ]
    },
    {
      "cell_type": "code",
      "metadata": {
        "id": "ngqKzRGUKGsx"
      },
      "source": [
        "from tensorflow.keras.preprocessing.sequence import TimeseriesGenerator\n",
        "\n",
        "x = TimeseriesGenerator(toy_data, toy_data.iloc[:, 0], 2)"
      ],
      "execution_count": 19,
      "outputs": []
    },
    {
      "cell_type": "code",
      "metadata": {
        "colab": {
          "base_uri": "https://localhost:8080/"
        },
        "id": "Wk48cPc9SwRz",
        "outputId": "ad0d3d74-1867-40ba-cf0b-b9bba3b1f128"
      },
      "source": [
        "x[0]"
      ],
      "execution_count": 20,
      "outputs": [
        {
          "output_type": "execute_result",
          "data": {
            "text/plain": [
              "(array([[[21, 59],\n",
              "         [14, 42]],\n",
              " \n",
              "        [[14, 42],\n",
              "         [26, 46]],\n",
              " \n",
              "        [[26, 46],\n",
              "         [ 0, 59]],\n",
              " \n",
              "        [[ 0, 59],\n",
              "         [ 3, 66]],\n",
              " \n",
              "        [[ 3, 66],\n",
              "         [ 8, 60]],\n",
              " \n",
              "        [[ 8, 60],\n",
              "         [ 9, 46]],\n",
              " \n",
              "        [[ 9, 46],\n",
              "         [12, 65]],\n",
              " \n",
              "        [[12, 65],\n",
              "         [ 8, 42]]]), array([26,  0,  3,  8,  9, 12,  8,  8]))"
            ]
          },
          "metadata": {
            "tags": []
          },
          "execution_count": 20
        }
      ]
    },
    {
      "cell_type": "code",
      "metadata": {
        "colab": {
          "base_uri": "https://localhost:8080/"
        },
        "id": "Npv9FW9jGDI8",
        "outputId": "2b4f22df-b57d-4bbd-a9c5-5aac7760e99f"
      },
      "source": [
        "train_x, train_y = prepare_dataset(train_scaled)\n",
        "test_x, test_y = prepare_dataset(test_scaled)\n",
        "\n",
        "print(\"train_x shape: \", train_x.shape, \" train_y shape: \", train_y.shape)\n",
        "print(\"test_x shape: \", test_x.shape, \" test_y shape: \", test_y.shape)"
      ],
      "execution_count": 21,
      "outputs": [
        {
          "output_type": "stream",
          "text": [
            "train_x shape:  (3096, 7, 6)  train_y shape:  (3096,)\n",
            "test_x shape:  (760, 7, 6)  test_y shape:  (760,)\n"
          ],
          "name": "stdout"
        }
      ]
    },
    {
      "cell_type": "markdown",
      "metadata": {
        "id": "vOQKG4Cim9Cf"
      },
      "source": [
        "## Model"
      ]
    },
    {
      "cell_type": "code",
      "metadata": {
        "id": "maC8EptkS8jO"
      },
      "source": [
        "from tensorflow.keras.models import Sequential\n",
        "from tensorflow.keras.layers import LSTM, Dense\n",
        "from tensorflow.keras.optimizers import Adam\n",
        "from tensorflow.keras.callbacks import EarlyStopping\n",
        "\n",
        "model = Sequential()\n",
        "model.add(LSTM(6, activation=\"relu\", input_shape=(train_x.shape[1], train_x.shape[2]), return_sequences=True))\n",
        "model.add(LSTM(6, activation=\"relu\"))\n",
        "model.add(Dense(1, activation=\"linear\"))\n",
        "\n",
        "es = EarlyStopping(monitor='val_mean_absolute_error', patience=2)\n",
        "model.compile(optimizer=Adam(learning_rate=0.0005), loss=\"mean_absolute_error\", metrics=[\"mean_absolute_error\"])"
      ],
      "execution_count": 22,
      "outputs": []
    },
    {
      "cell_type": "code",
      "metadata": {
        "colab": {
          "base_uri": "https://localhost:8080/"
        },
        "id": "wzhlpnVzURaP",
        "outputId": "46ad1c2d-4cfe-4322-c179-8eb5c5c9f82d"
      },
      "source": [
        "model.summary()"
      ],
      "execution_count": 23,
      "outputs": [
        {
          "output_type": "stream",
          "text": [
            "Model: \"sequential\"\n",
            "_________________________________________________________________\n",
            "Layer (type)                 Output Shape              Param #   \n",
            "=================================================================\n",
            "lstm (LSTM)                  (None, 7, 6)              312       \n",
            "_________________________________________________________________\n",
            "lstm_1 (LSTM)                (None, 6)                 312       \n",
            "_________________________________________________________________\n",
            "dense (Dense)                (None, 1)                 7         \n",
            "=================================================================\n",
            "Total params: 631\n",
            "Trainable params: 631\n",
            "Non-trainable params: 0\n",
            "_________________________________________________________________\n"
          ],
          "name": "stdout"
        }
      ]
    },
    {
      "cell_type": "code",
      "metadata": {
        "colab": {
          "base_uri": "https://localhost:8080/"
        },
        "id": "bXGfq6v1UZET",
        "outputId": "09a7ec2e-b03a-489f-99db-219534931782"
      },
      "source": [
        "history = model.fit(train_x, train_y, epochs=300, validation_split=0.2, callbacks=[es])"
      ],
      "execution_count": 24,
      "outputs": [
        {
          "output_type": "stream",
          "text": [
            "Epoch 1/300\n",
            "78/78 [==============================] - 3s 15ms/step - loss: 0.8062 - mean_absolute_error: 0.8062 - val_loss: 0.5904 - val_mean_absolute_error: 0.5904\n",
            "Epoch 2/300\n",
            "78/78 [==============================] - 1s 7ms/step - loss: 0.5614 - mean_absolute_error: 0.5614 - val_loss: 0.3070 - val_mean_absolute_error: 0.3070\n",
            "Epoch 3/300\n",
            "78/78 [==============================] - 1s 7ms/step - loss: 0.2912 - mean_absolute_error: 0.2912 - val_loss: 0.1822 - val_mean_absolute_error: 0.1822\n",
            "Epoch 4/300\n",
            "78/78 [==============================] - 1s 7ms/step - loss: 0.2174 - mean_absolute_error: 0.2174 - val_loss: 0.1736 - val_mean_absolute_error: 0.1736\n",
            "Epoch 5/300\n",
            "78/78 [==============================] - 1s 7ms/step - loss: 0.1815 - mean_absolute_error: 0.1815 - val_loss: 0.1227 - val_mean_absolute_error: 0.1227\n",
            "Epoch 6/300\n",
            "78/78 [==============================] - 1s 7ms/step - loss: 0.1248 - mean_absolute_error: 0.1248 - val_loss: 0.0981 - val_mean_absolute_error: 0.0981\n",
            "Epoch 7/300\n",
            "78/78 [==============================] - 1s 7ms/step - loss: 0.0964 - mean_absolute_error: 0.0964 - val_loss: 0.0699 - val_mean_absolute_error: 0.0699\n",
            "Epoch 8/300\n",
            "78/78 [==============================] - 1s 7ms/step - loss: 0.0745 - mean_absolute_error: 0.0745 - val_loss: 0.0598 - val_mean_absolute_error: 0.0598\n",
            "Epoch 9/300\n",
            "78/78 [==============================] - 1s 7ms/step - loss: 0.0667 - mean_absolute_error: 0.0667 - val_loss: 0.0497 - val_mean_absolute_error: 0.0497\n",
            "Epoch 10/300\n",
            "78/78 [==============================] - 1s 7ms/step - loss: 0.0587 - mean_absolute_error: 0.0587 - val_loss: 0.0454 - val_mean_absolute_error: 0.0454\n",
            "Epoch 11/300\n",
            "78/78 [==============================] - 1s 7ms/step - loss: 0.0549 - mean_absolute_error: 0.0549 - val_loss: 0.0441 - val_mean_absolute_error: 0.0441\n",
            "Epoch 12/300\n",
            "78/78 [==============================] - 1s 7ms/step - loss: 0.0532 - mean_absolute_error: 0.0532 - val_loss: 0.0417 - val_mean_absolute_error: 0.0417\n",
            "Epoch 13/300\n",
            "78/78 [==============================] - 1s 7ms/step - loss: 0.0518 - mean_absolute_error: 0.0518 - val_loss: 0.0457 - val_mean_absolute_error: 0.0457\n",
            "Epoch 14/300\n",
            "78/78 [==============================] - 1s 7ms/step - loss: 0.0498 - mean_absolute_error: 0.0498 - val_loss: 0.0415 - val_mean_absolute_error: 0.0415\n",
            "Epoch 15/300\n",
            "78/78 [==============================] - 1s 7ms/step - loss: 0.0473 - mean_absolute_error: 0.0473 - val_loss: 0.0411 - val_mean_absolute_error: 0.0411\n",
            "Epoch 16/300\n",
            "78/78 [==============================] - 1s 7ms/step - loss: 0.0469 - mean_absolute_error: 0.0469 - val_loss: 0.0442 - val_mean_absolute_error: 0.0442\n",
            "Epoch 17/300\n",
            "78/78 [==============================] - 1s 7ms/step - loss: 0.0452 - mean_absolute_error: 0.0452 - val_loss: 0.0408 - val_mean_absolute_error: 0.0408\n",
            "Epoch 18/300\n",
            "78/78 [==============================] - 1s 7ms/step - loss: 0.0451 - mean_absolute_error: 0.0451 - val_loss: 0.0400 - val_mean_absolute_error: 0.0400\n",
            "Epoch 19/300\n",
            "78/78 [==============================] - 1s 7ms/step - loss: 0.0449 - mean_absolute_error: 0.0449 - val_loss: 0.0399 - val_mean_absolute_error: 0.0399\n",
            "Epoch 20/300\n",
            "78/78 [==============================] - 1s 7ms/step - loss: 0.0431 - mean_absolute_error: 0.0431 - val_loss: 0.0435 - val_mean_absolute_error: 0.0435\n",
            "Epoch 21/300\n",
            "78/78 [==============================] - 1s 9ms/step - loss: 0.0420 - mean_absolute_error: 0.0420 - val_loss: 0.0399 - val_mean_absolute_error: 0.0399\n",
            "Epoch 22/300\n",
            "78/78 [==============================] - 1s 7ms/step - loss: 0.0417 - mean_absolute_error: 0.0417 - val_loss: 0.0397 - val_mean_absolute_error: 0.0397\n",
            "Epoch 23/300\n",
            "78/78 [==============================] - 1s 7ms/step - loss: 0.0419 - mean_absolute_error: 0.0419 - val_loss: 0.0397 - val_mean_absolute_error: 0.0397\n",
            "Epoch 24/300\n",
            "78/78 [==============================] - 1s 7ms/step - loss: 0.0418 - mean_absolute_error: 0.0418 - val_loss: 0.0405 - val_mean_absolute_error: 0.0405\n",
            "Epoch 25/300\n",
            "78/78 [==============================] - 1s 7ms/step - loss: 0.0427 - mean_absolute_error: 0.0427 - val_loss: 0.0419 - val_mean_absolute_error: 0.0419\n"
          ],
          "name": "stdout"
        }
      ]
    },
    {
      "cell_type": "code",
      "metadata": {
        "colab": {
          "base_uri": "https://localhost:8080/",
          "height": 281
        },
        "id": "-ykzGmoqUmvy",
        "outputId": "16cf1ca9-9b38-489d-e14c-a365546ab9df"
      },
      "source": [
        "plt.plot(history.history[\"loss\"])\n",
        "plt.plot(history.history[\"val_loss\"])\n",
        "plt.legend([\"train\", \"val\"])\n",
        "plt.title(\"Loss\")\n",
        "plt.show()"
      ],
      "execution_count": 25,
      "outputs": [
        {
          "output_type": "display_data",
          "data": {
            "image/png": "[encoded data removed]",
            "text/plain": [
              "<Figure size 432x288 with 1 Axes>"
            ]
          },
          "metadata": {
            "tags": [],
            "needs_background": "light"
          }
        }
      ]
    },
    {
      "cell_type": "code",
      "metadata": {
        "colab": {
          "base_uri": "https://localhost:8080/",
          "height": 281
        },
        "id": "xhtI8t2LYNao",
        "outputId": "613d8646-f482-40ba-fc93-d47720edf589"
      },
      "source": [
        "plt.plot(history.history[\"mean_absolute_error\"])\n",
        "plt.plot(history.history[\"val_mean_absolute_error\"])\n",
        "plt.legend([\"train\", \"val\"])\n",
        "plt.title(\"MAE\")\n",
        "plt.show()"
      ],
      "execution_count": 26,
      "outputs": [
        {
          "output_type": "display_data",
          "data": {
            "image/png": "[encoded data removed]",
            "text/plain": [
              "<Figure size 432x288 with 1 Axes>"
            ]
          },
          "metadata": {
            "tags": [],
            "needs_background": "light"
          }
        }
      ]
    },
    {
      "cell_type": "code",
      "metadata": {
        "colab": {
          "base_uri": "https://localhost:8080/"
        },
        "id": "tF7z8mBqYXcF",
        "outputId": "01a32e1b-11a3-44ba-86ed-eea077445323"
      },
      "source": [
        "#predicting test examples\n",
        "predictions = model.predict(test_x)\n",
        "print(\"Test mean absolute error: \", mean_absolute_error(test_y, predictions))"
      ],
      "execution_count": 27,
      "outputs": [
        {
          "output_type": "stream",
          "text": [
            "Test mean absolute error:  0.04234668242542841\n"
          ],
          "name": "stdout"
        }
      ]
    },
    {
      "cell_type": "code",
      "metadata": {
        "id": "W63FUyFDaKRU"
      },
      "source": [
        "#converting prediction values back to orijinal range\n",
        "forecast_copies = np.repeat(predictions, test.shape[1], axis=1)   #coping predictions to avoid getting error from scaler\n",
        "forecast = scaler.inverse_transform(forecast_copies)[:, 0]"
      ],
      "execution_count": 28,
      "outputs": []
    },
    {
      "cell_type": "code",
      "metadata": {
        "colab": {
          "base_uri": "https://localhost:8080/",
          "height": 238
        },
        "id": "R-T94k2tcPij",
        "outputId": "31168fc2-368c-4ace-a05b-b7d89d1a93b0"
      },
      "source": [
        "df_preds = pd.DataFrame({\"actual_rate\": test[\"dam_occupancy\"][20:], \"forecast\": forecast})\n",
        "df_preds.head()"
      ],
      "execution_count": 29,
      "outputs": [
        {
          "output_type": "execute_result",
          "data": {
            "text/html": [
              "<div>\n",
              "<style scoped>\n",
              "    .dataframe tbody tr th:only-of-type {\n",
              "        vertical-align: middle;\n",
              "    }\n",
              "\n",
              "    .dataframe tbody tr th {\n",
              "        vertical-align: top;\n",
              "    }\n",
              "\n",
              "    .dataframe thead th {\n",
              "        text-align: right;\n",
              "    }\n",
              "</style>\n",
              "<table border=\"1\" class=\"dataframe\">\n",
              "  <thead>\n",
              "    <tr style=\"text-align: right;\">\n",
              "      <th></th>\n",
              "      <th>actual_rate</th>\n",
              "      <th>forecast</th>\n",
              "    </tr>\n",
              "    <tr>\n",
              "      <th>date</th>\n",
              "      <th></th>\n",
              "      <th></th>\n",
              "    </tr>\n",
              "  </thead>\n",
              "  <tbody>\n",
              "    <tr>\n",
              "      <th>2017-08-04</th>\n",
              "      <td>69.78</td>\n",
              "      <td>71.194237</td>\n",
              "    </tr>\n",
              "    <tr>\n",
              "      <th>2017-08-05</th>\n",
              "      <td>69.49</td>\n",
              "      <td>71.401680</td>\n",
              "    </tr>\n",
              "    <tr>\n",
              "      <th>2017-08-06</th>\n",
              "      <td>69.21</td>\n",
              "      <td>72.421280</td>\n",
              "    </tr>\n",
              "    <tr>\n",
              "      <th>2017-08-07</th>\n",
              "      <td>68.91</td>\n",
              "      <td>71.898300</td>\n",
              "    </tr>\n",
              "    <tr>\n",
              "      <th>2017-08-08</th>\n",
              "      <td>68.59</td>\n",
              "      <td>69.428230</td>\n",
              "    </tr>\n",
              "  </tbody>\n",
              "</table>\n",
              "</div>"
            ],
            "text/plain": [
              "            actual_rate   forecast\n",
              "date                              \n",
              "2017-08-04        69.78  71.194237\n",
              "2017-08-05        69.49  71.401680\n",
              "2017-08-06        69.21  72.421280\n",
              "2017-08-07        68.91  71.898300\n",
              "2017-08-08        68.59  69.428230"
            ]
          },
          "metadata": {
            "tags": []
          },
          "execution_count": 29
        }
      ]
    },
    {
      "cell_type": "code",
      "metadata": {
        "colab": {
          "base_uri": "https://localhost:8080/",
          "height": 326
        },
        "id": "VF3HAFdCdjsI",
        "outputId": "5c4e1922-6f5f-4480-ae20-23558c249ff2"
      },
      "source": [
        "df_preds.plot(figsize=(15, 5))\n",
        "plt.xlabel(\"Date\")\n",
        "plt.ylabel(\"Dam Occupancy Rate\")\n",
        "plt.show()"
      ],
      "execution_count": 30,
      "outputs": [
        {
          "output_type": "display_data",
          "data": {
            "image/png": "[encoded data removed]",
            "text/plain": [
              "<Figure size 1080x360 with 1 Axes>"
            ]
          },
          "metadata": {
            "tags": [],
            "needs_background": "light"
          }
        }
      ]
    },
    {
      "cell_type": "code",
      "metadata": {
        "id": "wBQDTd8ogJNO"
      },
      "source": [
        ""
      ],
      "execution_count": 30,
      "outputs": []
    }
  ]
}